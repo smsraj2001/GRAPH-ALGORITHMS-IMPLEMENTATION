{
 "cells": [
  {
   "cell_type": "markdown",
   "metadata": {
    "id": "WT0L_Yg1QcTS"
   },
   "source": [
    "## GTA ASSIGNMENT - UE20CS323\n",
    "### Name : S M SUTHARSAN RAJ\n",
    "### SRN  : PES1UG20CS362\n",
    "\n",
    "#### TOPIC : `PROBLEM 11` : There are m vacant positions and m applicants for these vacant positions. Salary expectations and proficiency in executing a job of every applicant is taken as input. It is not mandatory that every applicant is suitable for available vacant posts. Model the problem and apply Hungarian method to find the optimal assignment."
   ]
  },
  {
   "cell_type": "markdown",
   "metadata": {
    "id": "9vVCzoJbRH8O"
   },
   "source": [
    "### Hungarian Method for Job assignment"
   ]
  },
  {
   "cell_type": "code",
   "execution_count": 1,
   "metadata": {
    "colab": {
     "base_uri": "https://localhost:8080/"
    },
    "id": "CuJPkoyY0L3P",
    "outputId": "9e9c6e8e-7c69-425b-a2f3-b76be3966204"
   },
   "outputs": [
    {
     "name": "stdout",
     "output_type": "stream",
     "text": [
      "[[67 63 70  9 36]\n",
      " [91  4 59 98 26]\n",
      " [16 16 28 46 50]\n",
      " [21  6 96 68 10]\n",
      " [91 61 89 30  1]]\n"
     ]
    }
   ],
   "source": [
    "import numpy as np\n",
    "import copy\n",
    "\n",
    "# Just as a refernce matrix\n",
    "max_int = 100\n",
    "n = 5\n",
    "cost_matrix = np.random.randint(max_int, size = (n,n))\n",
    "\n",
    "print(cost_matrix)"
   ]
  },
  {
   "cell_type": "markdown",
   "metadata": {
    "id": "xlRW6b2xXOCK"
   },
   "source": [
    "#### Taking input for `salary` and `proficiency` for each job for each matrix"
   ]
  },
  {
   "cell_type": "code",
   "execution_count": 2,
   "metadata": {
    "colab": {
     "base_uri": "https://localhost:8080/"
    },
    "id": "s7LO1uXq1YMc",
    "outputId": "2cc610ac-6547-4b76-87f9-1a0f766b6158"
   },
   "outputs": [
    {
     "name": "stdout",
     "output_type": "stream",
     "text": [
      "Enter the number of vacant positions which is same as number of applicants: 3\n",
      "Enter the expected salary of the employee 1 for job 1 :\n",
      "300\n",
      "Enter the expected salary of the employee 1 for job 2 :\n",
      "100\n",
      "Enter the expected salary of the employee 1 for job 3 :\n",
      "150\n",
      "Enter the expected salary of the employee 2 for job 1 :\n",
      "200\n",
      "Enter the expected salary of the employee 2 for job 2 :\n",
      "350\n",
      "Enter the expected salary of the employee 2 for job 3 :\n",
      "250\n",
      "Enter the expected salary of the employee 3 for job 1 :\n",
      "400\n",
      "Enter the expected salary of the employee 3 for job 2 :\n",
      "200\n",
      "Enter the expected salary of the employee 3 for job 3 :\n",
      "100\n",
      "Enter the proficiency of the employee 1 in executing job 1 :\n",
      "10\n",
      "Enter the proficiency of the employee 1 in executing job 2 :\n",
      "6\n",
      "Enter the proficiency of the employee 1 in executing job 3 :\n",
      "4\n",
      "Enter the proficiency of the employee 2 in executing job 1 :\n",
      "5\n",
      "Enter the proficiency of the employee 2 in executing job 2 :\n",
      "8\n",
      "Enter the proficiency of the employee 2 in executing job 3 :\n",
      "2\n",
      "Enter the proficiency of the employee 3 in executing job 1 :\n",
      "4\n",
      "Enter the proficiency of the employee 3 in executing job 2 :\n",
      "9\n",
      "Enter the proficiency of the employee 3 in executing job 3 :\n",
      "7\n"
     ]
    }
   ],
   "source": [
    "import numpy as np\n",
    "import copy\n",
    "\n",
    "# m applicants for m vacant positions.\n",
    "m = int(input(\"Enter the number of vacant positions which is same as number of applicants: \"))\n",
    "salary = np.zeros((m, m))\n",
    "proficiency = np.zeros((m, m))\n",
    "\n",
    "# for i in range(0,m):\n",
    "#     salary.append([])\n",
    "#     proficiency.append([])\n",
    "#     for j in range(0,n):\n",
    "#         salary[i].append(0)\n",
    "#         proficiency[i].append(0)\n",
    "\n",
    "for i in range(0,m):\n",
    "  for j in range(0,m):\n",
    "    print(\"Enter the expected salary of the employee {} for job {} :\".format(i+1,j+1))\n",
    "    salary[i][j] = int(input())\n",
    "    \n",
    "for i in range(0,m):\n",
    "  for j in range(0,m):\n",
    "    print(\"Enter the proficiency of the employee {} in executing job {} :\".format(i+1,j+1))\n",
    "    proficiency[i][j] = int(input())\n",
    "\n",
    "cost_matrix = np.zeros((m, m))\n",
    "for i in range(m):\n",
    "    for j in range(m):\n",
    "        cost_matrix[i][j] = proficiency[i][j] / salary[i][j] # Taking this for giving proficiency a bigger hand."
   ]
  },
  {
   "cell_type": "markdown",
   "metadata": {
    "id": "vzhM7CEkIYgX"
   },
   "source": [
    "##### Displaying the matrices"
   ]
  },
  {
   "cell_type": "code",
   "execution_count": 3,
   "metadata": {
    "colab": {
     "base_uri": "https://localhost:8080/"
    },
    "id": "pO5Bt_gAH0II",
    "outputId": "b29335fc-2efa-4457-e71e-777d343aa525"
   },
   "outputs": [
    {
     "name": "stdout",
     "output_type": "stream",
     "text": [
      "The Salary Expectation Matrix is:\n",
      "\n",
      "[[300. 100. 150.]\n",
      " [200. 350. 250.]\n",
      " [400. 200. 100.]]\n",
      "\n",
      "The Proficiency Matrix is:\n",
      "\n",
      "[[10.  6.  4.]\n",
      " [ 5.  8.  2.]\n",
      " [ 4.  9.  7.]]\n",
      "\n",
      "The Cost Matrix is:\n",
      "\n",
      "[[0.03333333 0.06       0.02666667]\n",
      " [0.025      0.02285714 0.008     ]\n",
      " [0.01       0.045      0.07      ]]\n"
     ]
    }
   ],
   "source": [
    "# Salary Expectitation Matrix (S)\n",
    "print('The Salary Expectation Matrix is:\\n')\n",
    "print(salary)\n",
    "print('\\nThe Proficiency Matrix is:\\n')\n",
    "print(proficiency)\n",
    "print('\\nThe Cost Matrix is:\\n')\n",
    "print(cost_matrix)"
   ]
  },
  {
   "cell_type": "markdown",
   "metadata": {
    "id": "94WpylosXnca"
   },
   "source": [
    "#### Initial hungarian step for taking difference between all the elements and the minimum number"
   ]
  },
  {
   "cell_type": "code",
   "execution_count": 4,
   "metadata": {
    "id": "ClxFndvi0ey9"
   },
   "outputs": [],
   "source": [
    "def hungarian_step(mat): \n",
    "    #The for-loop iterates through every column in the matrix so we subtract this value to every element of the row\n",
    "    for row_num in range(mat.shape[0]): \n",
    "        mat[row_num] = mat[row_num] - np.min(mat[row_num])\n",
    "\n",
    "    #We repeat the process for the columns\n",
    "    for col_num in range(mat.shape[1]): \n",
    "        mat[:,col_num] = mat[:,col_num] - np.min(mat[:,col_num])\n",
    "    \n",
    "    return mat"
   ]
  },
  {
   "cell_type": "code",
   "execution_count": 5,
   "metadata": {
    "id": "Flvq9DGQ0k4X"
   },
   "outputs": [],
   "source": [
    "def min_zeros(zero_mat, mark_zero):\n",
    "    # min_row = [number of zeros, row index number]\n",
    "    min_row = [99999, -1]\n",
    "\n",
    "    for row_num in range(zero_mat.shape[0]): \n",
    "        if np.sum(zero_mat[row_num] == True) > 0 and min_row[0] > np.sum(zero_mat[row_num] == True):\n",
    "            min_row = [np.sum(zero_mat[row_num] == True), row_num]\n",
    "\n",
    "    # Marked the specific row and column as False\n",
    "    zero_index = np.where(zero_mat[min_row[1]] == True)[0][0]\n",
    "    mark_zero.append((min_row[1], zero_index))\n",
    "    zero_mat[min_row[1], :] = False\n",
    "    zero_mat[:, zero_index] = False"
   ]
  },
  {
   "cell_type": "markdown",
   "metadata": {
    "id": "q6SHMqYGZJjT"
   },
   "source": [
    "##### After extracting the zeros in the matrix, we can mark the rows and columns to determine whether the hungarian algorithm is complete."
   ]
  },
  {
   "cell_type": "code",
   "execution_count": 6,
   "metadata": {
    "id": "cLbJyxOd0n23"
   },
   "outputs": [],
   "source": [
    "def mark_matrix(mat):\n",
    "    # Transform the matrix to boolean matrix(0 = True, others = False)\n",
    "    cur_mat = mat\n",
    "    zero_bool_mat = (cur_mat == 0)\n",
    "    zero_bool_mat_copy = zero_bool_mat.copy()\n",
    "\n",
    "    # Recording possible answer positions by marked_zero\n",
    "    marked_zero = []\n",
    "    while (True in zero_bool_mat_copy):\n",
    "        min_zeros(zero_bool_mat_copy, marked_zero)\n",
    "\n",
    "    # Recording the row and column indexes seperately.\n",
    "    marked_zero_row = []\n",
    "    marked_zero_col = []\n",
    "    for i in range(len(marked_zero)):\n",
    "        marked_zero_row.append(marked_zero[i][0])\n",
    "        marked_zero_col.append(marked_zero[i][1])\n",
    "    \n",
    "    # Mark rows not containing zeros\n",
    "    non_marked_row = list(set(range(cur_mat.shape[0])) - set(marked_zero_row))\n",
    "    \n",
    "    # Mark columns with zeros\n",
    "    marked_cols = []\n",
    "    check_switch = True\n",
    "    while check_switch:\n",
    "        check_switch = False\n",
    "        for i in range(len(non_marked_row)):\n",
    "            row_array = zero_bool_mat[non_marked_row[i], :]\n",
    "            for j in range(row_array.shape[0]):\n",
    "                if row_array[j] == True and j not in marked_cols:\n",
    "\n",
    "                    marked_cols.append(j)\n",
    "                    check_switch = True\n",
    "\n",
    "        for row_num, col_num in marked_zero:\n",
    "            if row_num not in non_marked_row and col_num in marked_cols:\n",
    "                \n",
    "                non_marked_row.append(row_num)\n",
    "                check_switch = True\n",
    "    \n",
    "    # mark rows with zeros\n",
    "    marked_rows = list(set(range(mat.shape[0])) - set(non_marked_row))\n",
    "    \n",
    "    return(marked_zero, marked_rows, marked_cols)"
   ]
  },
  {
   "cell_type": "markdown",
   "metadata": {
    "id": "uOKFq0U8Za1q"
   },
   "source": [
    "##### In the case where marked rows and columns do not add up to  n , we need to adjust the matrix to continue the search."
   ]
  },
  {
   "cell_type": "code",
   "execution_count": 7,
   "metadata": {
    "id": "rDEB78eJ0qOp"
   },
   "outputs": [],
   "source": [
    "def adjust_matrix(mat, cover_rows, cover_cols):\n",
    "    cur_mat = mat\n",
    "    non_zero_element = []\n",
    "    \n",
    "    # Find the minimum value of an element not in a marked column/row \n",
    "    for row in range(len(cur_mat)):\n",
    "        if row not in cover_rows:\n",
    "            for i in range(len(cur_mat[row])):\n",
    "                if i not in cover_cols:\n",
    "                    non_zero_element.append(cur_mat[row][i])\n",
    "    \n",
    "    min_num = min(non_zero_element)\n",
    "\n",
    "    # Subtract to all values not in a marked row/column\n",
    "    for row in range(len(cur_mat)):\n",
    "        if row not in cover_rows:\n",
    "            for i in range(len(cur_mat[row])):\n",
    "                if i not in cover_cols:\n",
    "                    cur_mat[row, i] = cur_mat[row, i] - min_num\n",
    "    # Add to all values in marked rows/column\n",
    "    for row in range(len(cover_rows)):  \n",
    "        for col in range(len(cover_cols)):\n",
    "            cur_mat[cover_rows[row], cover_cols[col]] = cur_mat[cover_rows[row], cover_cols[col]] + min_num\n",
    "\n",
    "    return cur_mat"
   ]
  },
  {
   "cell_type": "markdown",
   "metadata": {
    "id": "oPjTY61yX0ex"
   },
   "source": [
    "#### The final Hungarian algorithm which combines all the above methods"
   ]
  },
  {
   "cell_type": "code",
   "execution_count": 8,
   "metadata": {
    "id": "cFy1R2ZM0s1z"
   },
   "outputs": [],
   "source": [
    "def hungarian_algorithm(cost_matrix):\n",
    "    n = cost_matrix.shape[0]\n",
    "    cur_mat = copy.deepcopy(cost_matrix) # Copying of the original cost matrix to retain it\n",
    "    \n",
    "    cur_mat = hungarian_step(cur_mat)\n",
    "    \n",
    "    count_zero_lines = 0\n",
    "        \n",
    "    while count_zero_lines < n:\n",
    "        ans_pos, marked_rows, marked_cols = mark_matrix(cur_mat)\n",
    "        count_zero_lines = len(marked_rows) + len(marked_cols)\n",
    "\n",
    "        if count_zero_lines < n:\n",
    "            cur_mat = adjust_matrix(cur_mat, marked_rows, marked_cols)\n",
    "    \n",
    "        return ans_pos"
   ]
  },
  {
   "cell_type": "code",
   "execution_count": 9,
   "metadata": {
    "colab": {
     "base_uri": "https://localhost:8080/"
    },
    "id": "Zg_uK5O30w4x",
    "outputId": "20150054-a70a-4771-b640-210ab8a12684"
   },
   "outputs": [
    {
     "name": "stdout",
     "output_type": "stream",
     "text": [
      "The final assignment is: [(0, 2), (1, 1), (2, 0)]\n",
      "[[0.03333333 0.06       0.02666667]\n",
      " [0.025      0.02285714 0.008     ]\n",
      " [0.01       0.045      0.07      ]]\n"
     ]
    }
   ],
   "source": [
    "assignment = hungarian_algorithm(cost_matrix)\n",
    "print(f\"The final assignment is: {assignment}\")\n",
    "print(cost_matrix)"
   ]
  },
  {
   "cell_type": "code",
   "execution_count": 10,
   "metadata": {
    "colab": {
     "base_uri": "https://localhost:8080/"
    },
    "id": "msziPl7F00it",
    "outputId": "5a40e45d-b487-41a7-8610-c55ad6b18681"
   },
   "outputs": [
    {
     "name": "stdout",
     "output_type": "stream",
     "text": [
      "The total cost of the assignment is 0.05952380952380953\n"
     ]
    }
   ],
   "source": [
    "# The total cost of the assignment\n",
    "\n",
    "total = 0\n",
    "for i in range(len(assignment)):\n",
    "    total += cost_matrix[assignment[i][0], assignment[i][1]]\n",
    "print(f\"The total cost of the assignment is {total}\")"
   ]
  },
  {
   "cell_type": "markdown",
   "metadata": {
    "id": "iBkfi_gRYN9J"
   },
   "source": [
    "#### Plotting the assignment obtained with the help of graph"
   ]
  },
  {
   "cell_type": "code",
   "execution_count": 11,
   "metadata": {
    "colab": {
     "base_uri": "https://localhost:8080/",
     "height": 354
    },
    "id": "z6T-9kRO04we",
    "outputId": "b0a9cb9f-9e72-41f3-cbaf-1fbf69d37146"
   },
   "outputs": [
    {
     "name": "stdout",
     "output_type": "stream",
     "text": [
      "The final assignment is (0, 2), (1, 1), (2, 0)\n",
      "The total cost of the assignment is 0.05952380952380953.\n"
     ]
    },
    {
     "data": {
      "image/png": "[encoded data removed]",
      "text/plain": [
       "<Figure size 432x288 with 1 Axes>"
      ]
     },
     "metadata": {},
     "output_type": "display_data"
    }
   ],
   "source": [
    "# Networkx used for plotting the graph\n",
    "\n",
    "from scipy.optimize import linear_sum_assignment\n",
    "def draw_network(cost_matrix, assignment):\n",
    "    import networkx as nx\n",
    "    \n",
    "    x_diff = 10\n",
    "    \n",
    "    y_min = 0\n",
    "    y_max = 5\n",
    "    \n",
    "    G = nx.Graph()\n",
    "    \n",
    "    for i in range(len(assignment)):\n",
    "        G.add_node(f\"r_{i}\", pos = (y_min, i*x_diff))\n",
    "        G.add_node(f\"c_{i}\", pos = (y_max, i*x_diff))\n",
    "    \n",
    "    pos=nx.get_node_attributes(G,'pos')\n",
    "    \n",
    "    for i in range(len(assignment)):\n",
    "        for j in range(len(assignment)):\n",
    "            val = [i, j]\n",
    "            if val in assignment:\n",
    "                c = 'r'\n",
    "                w = 4\n",
    "            else:\n",
    "                c = 'k'\n",
    "                w = 2\n",
    "            G.add_edge(f\"r_{i}\", f\"c_{j}\", color=c, weight=w)\n",
    "            \n",
    "    edges = G.edges()\n",
    "    colors = [G[u][v]['color'] for u,v in edges]\n",
    "    weights = [G[u][v]['weight'] for u,v in edges]\n",
    "    nx.draw(G,pos,with_labels = True, node_size = 600, font_color = 'w', edge_color = colors, width = weights)\n",
    "    \n",
    "\n",
    "def calc_costs(cost_matrix, assignment):\n",
    "    total = 0\n",
    "    for a in assignment:\n",
    "        total += cost_matrix[a[0], a[1]]\n",
    "    return total\n",
    "\n",
    "def clean_assignment(row, columns):\n",
    "    assignments = []\n",
    "\n",
    "    text = \"The final assignment is \"\n",
    "    for i in range(len(row)):\n",
    "        assignments.append([row[i], columns[i]])\n",
    "        if i > 0:\n",
    "            text += \", \"\n",
    "        text += f\"({row[i]}, {columns[i]})\"\n",
    "    print(text)\n",
    "    return assignments\n",
    "\n",
    "    \n",
    "def run_assignment(cost_matrix):\n",
    "    row,columns = linear_sum_assignment(cost_matrix)\n",
    "    assignments = clean_assignment(row, columns)\n",
    "    total_cost = calc_costs(cost_matrix, assignments)\n",
    "    print(f\"The total cost of the assignment is {total_cost}.\")\n",
    "    draw_network(cost_matrix, assignments)\n",
    "\n",
    "run_assignment(cost_matrix)    "
   ]
  }
 ],
 "metadata": {
  "colab": {
   "provenance": []
  },
  "kernelspec": {
   "display_name": "Python 3",
   "language": "python",
   "name": "python3"
  },
  "language_info": {
   "codemirror_mode": {
    "name": "ipython",
    "version": 3
   },
   "file_extension": ".py",
   "mimetype": "text/x-python",
   "name": "python",
   "nbconvert_exporter": "python",
   "pygments_lexer": "ipython3",
   "version": "3.8.8"
  }
 },
 "nbformat": 4,
 "nbformat_minor": 1
}
